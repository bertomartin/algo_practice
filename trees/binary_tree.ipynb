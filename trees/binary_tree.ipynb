{
 "cells": [
  {
   "cell_type": "code",
   "execution_count": 18,
   "metadata": {
    "collapsed": true
   },
   "outputs": [],
   "source": [
    "class BinaryTree(object):\n",
    "    def __init__(self, root_obj):\n",
    "        self.key = root_obj\n",
    "        self.left = None\n",
    "        self.right = None\n",
    "        \n",
    "    # Insert a New Left Child\n",
    "    def insert_left(self, new_node):\n",
    "        if self.left == None:\n",
    "            self.left = BinaryTree(new_node)\n",
    "        else:\n",
    "            tr = BinaryTree(new_node)\n",
    "            tr.left = self.left\n",
    "            self.left = tr\n",
    "            \n",
    "    # Insert a New Right Child\n",
    "    def insert_right(self, new_node):\n",
    "        if self.right == None:\n",
    "            self.right = BinaryTree(new_node)\n",
    "        else:\n",
    "            tr = BinaryTree(new_node)\n",
    "            tr.right = self.right\n",
    "            self.right = tr\n",
    "            \n",
    "    # get root value\n",
    "    def get_root_val(self):\n",
    "        return self.key\n",
    "    \n",
    "    # set root value\n",
    "    def set_root_val(self, obj):\n",
    "        self.key = obj\n",
    "        \n",
    "    # get left child\n",
    "    def get_left_child(self):\n",
    "        return self.left\n",
    "    \n",
    "    # get right child\n",
    "    def get_right_child(self):\n",
    "        return self.right"
   ]
  },
  {
   "cell_type": "code",
   "execution_count": 19,
   "metadata": {
    "collapsed": true
   },
   "outputs": [],
   "source": [
    "# Testing\n",
    "b = BinaryTree('a')\n",
    "b.insert_left('b')\n",
    "b.insert_right('c')"
   ]
  },
  {
   "cell_type": "code",
   "execution_count": 20,
   "metadata": {
    "collapsed": false
   },
   "outputs": [
    {
     "data": {
      "text/plain": [
       "'a'"
      ]
     },
     "execution_count": 20,
     "metadata": {},
     "output_type": "execute_result"
    }
   ],
   "source": [
    "b.get_root_val()"
   ]
  },
  {
   "cell_type": "code",
   "execution_count": 21,
   "metadata": {
    "collapsed": false
   },
   "outputs": [
    {
     "data": {
      "text/plain": [
       "'c'"
      ]
     },
     "execution_count": 21,
     "metadata": {},
     "output_type": "execute_result"
    }
   ],
   "source": [
    "b.get_right_child().get_root_val()"
   ]
  }
 ],
 "metadata": {
  "anaconda-cloud": {},
  "kernelspec": {
   "display_name": "Python [conda env:algorithms]",
   "language": "python",
   "name": "conda-env-algorithms-py"
  },
  "language_info": {
   "codemirror_mode": {
    "name": "ipython",
    "version": 2
   },
   "file_extension": ".py",
   "mimetype": "text/x-python",
   "name": "python",
   "nbconvert_exporter": "python",
   "pygments_lexer": "ipython2",
   "version": "2.7.13"
  }
 },
 "nbformat": 4,
 "nbformat_minor": 2
}
